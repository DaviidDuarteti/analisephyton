{
 "cells": [
  {
   "cell_type": "code",
   "execution_count": 2,
   "metadata": {},
   "outputs": [
    {
     "data": {
      "text/html": [
       "<div>\n",
       "<style scoped>\n",
       "    .dataframe tbody tr th:only-of-type {\n",
       "        vertical-align: middle;\n",
       "    }\n",
       "\n",
       "    .dataframe tbody tr th {\n",
       "        vertical-align: top;\n",
       "    }\n",
       "\n",
       "    .dataframe thead th {\n",
       "        text-align: right;\n",
       "    }\n",
       "</style>\n",
       "<table border=\"1\" class=\"dataframe\">\n",
       "  <thead>\n",
       "    <tr style=\"text-align: right;\">\n",
       "      <th></th>\n",
       "      <th>CODIGO_IES</th>\n",
       "      <th>NOME_IES</th>\n",
       "      <th>CATEGORIA_ADMINISTRATIVA</th>\n",
       "      <th>ORGANIZACAO_ACADEMICA</th>\n",
       "      <th>CODIGO_CURSO</th>\n",
       "      <th>NOME_CURSO</th>\n",
       "      <th>GRAU</th>\n",
       "      <th>AREA_OCDE</th>\n",
       "      <th>MODALIDADE</th>\n",
       "      <th>SITUACAO_CURSO</th>\n",
       "      <th>QT_VAGAS_AUTORIZADAS</th>\n",
       "      <th>CARGA_HORARIA</th>\n",
       "      <th>CODIGO_AREA_OCDE_CINE</th>\n",
       "      <th>AREA_OCDE_CINE</th>\n",
       "      <th>CODIGO_MUNICIPIO</th>\n",
       "      <th>MUNICIPIO</th>\n",
       "      <th>UF</th>\n",
       "      <th>REGIAO</th>\n",
       "    </tr>\n",
       "  </thead>\n",
       "  <tbody>\n",
       "    <tr>\n",
       "      <th>0</th>\n",
       "      <td>4751</td>\n",
       "      <td>CENTRO UNIVERSITÁRIO UNIFATECIE</td>\n",
       "      <td>Privada com fins lucrativos</td>\n",
       "      <td>Centro Universitário</td>\n",
       "      <td>1556773</td>\n",
       "      <td>ENGENHARIA AGRONÔMICA</td>\n",
       "      <td>Bacharelado</td>\n",
       "      <td>Agronomia</td>\n",
       "      <td>Educação a Distância</td>\n",
       "      <td>Em atividade</td>\n",
       "      <td>1000</td>\n",
       "      <td>4400</td>\n",
       "      <td>301</td>\n",
       "      <td>Agronomia</td>\n",
       "      <td>3541406</td>\n",
       "      <td>Presidente Prudente</td>\n",
       "      <td>SP</td>\n",
       "      <td>SUDESTE</td>\n",
       "    </tr>\n",
       "    <tr>\n",
       "      <th>1</th>\n",
       "      <td>1491</td>\n",
       "      <td>CENTRO UNIVERSITÁRIO INTERNACIONAL</td>\n",
       "      <td>Privada com fins lucrativos</td>\n",
       "      <td>Centro Universitário</td>\n",
       "      <td>1186955</td>\n",
       "      <td>LETRAS</td>\n",
       "      <td>Licenciatura</td>\n",
       "      <td>Formação de professor de língua/literatura ver...</td>\n",
       "      <td>Educação a Distância</td>\n",
       "      <td>Em atividade</td>\n",
       "      <td>3000</td>\n",
       "      <td>3992</td>\n",
       "      <td>58</td>\n",
       "      <td>Formação de professor de língua/literatura ver...</td>\n",
       "      <td>2516201</td>\n",
       "      <td>Sousa</td>\n",
       "      <td>PB</td>\n",
       "      <td>NORDESTE</td>\n",
       "    </tr>\n",
       "  </tbody>\n",
       "</table>\n",
       "</div>"
      ],
      "text/plain": [
       "   CODIGO_IES                            NOME_IES  \\\n",
       "0        4751     CENTRO UNIVERSITÁRIO UNIFATECIE   \n",
       "1        1491  CENTRO UNIVERSITÁRIO INTERNACIONAL   \n",
       "\n",
       "      CATEGORIA_ADMINISTRATIVA ORGANIZACAO_ACADEMICA  CODIGO_CURSO  \\\n",
       "0  Privada com fins lucrativos  Centro Universitário       1556773   \n",
       "1  Privada com fins lucrativos  Centro Universitário       1186955   \n",
       "\n",
       "              NOME_CURSO          GRAU  \\\n",
       "0  ENGENHARIA AGRONÔMICA   Bacharelado   \n",
       "1                 LETRAS  Licenciatura   \n",
       "\n",
       "                                           AREA_OCDE            MODALIDADE  \\\n",
       "0                                          Agronomia  Educação a Distância   \n",
       "1  Formação de professor de língua/literatura ver...  Educação a Distância   \n",
       "\n",
       "  SITUACAO_CURSO  QT_VAGAS_AUTORIZADAS  CARGA_HORARIA CODIGO_AREA_OCDE_CINE  \\\n",
       "0   Em atividade                  1000           4400                   301   \n",
       "1   Em atividade                  3000           3992                    58   \n",
       "\n",
       "                                      AREA_OCDE_CINE  CODIGO_MUNICIPIO  \\\n",
       "0                                          Agronomia           3541406   \n",
       "1  Formação de professor de língua/literatura ver...           2516201   \n",
       "\n",
       "             MUNICIPIO  UF    REGIAO  \n",
       "0  Presidente Prudente  SP   SUDESTE  \n",
       "1                Sousa  PB  NORDESTE  "
      ]
     },
     "metadata": {},
     "output_type": "display_data"
    }
   ],
   "source": [
    "import pandas as pd\n",
    "\n",
    "arquivo = pd.read_csv(\"Dados.csv\")\n",
    "\n",
    "display(arquivo.head(2))"
   ]
  },
  {
   "cell_type": "markdown",
   "metadata": {},
   "source": [
    "Quantidade de vagas por modalidade de ensino."
   ]
  },
  {
   "cell_type": "code",
   "execution_count": 5,
   "metadata": {},
   "outputs": [
    {
     "data": {
      "text/html": [
       "<div>\n",
       "<style scoped>\n",
       "    .dataframe tbody tr th:only-of-type {\n",
       "        vertical-align: middle;\n",
       "    }\n",
       "\n",
       "    .dataframe tbody tr th {\n",
       "        vertical-align: top;\n",
       "    }\n",
       "\n",
       "    .dataframe thead th {\n",
       "        text-align: right;\n",
       "    }\n",
       "</style>\n",
       "<table border=\"1\" class=\"dataframe\">\n",
       "  <thead>\n",
       "    <tr style=\"text-align: right;\">\n",
       "      <th></th>\n",
       "      <th></th>\n",
       "      <th>QT_VAGAS_AUTORIZADAS</th>\n",
       "    </tr>\n",
       "    <tr>\n",
       "      <th>MUNICIPIO</th>\n",
       "      <th>MODALIDADE</th>\n",
       "      <th></th>\n",
       "    </tr>\n",
       "  </thead>\n",
       "  <tbody>\n",
       "    <tr>\n",
       "      <th rowspan=\"2\" valign=\"top\">São Paulo</th>\n",
       "      <th>Educação Presencial</th>\n",
       "      <td>1233629</td>\n",
       "    </tr>\n",
       "    <tr>\n",
       "      <th>Educação a Distância</th>\n",
       "      <td>11745861</td>\n",
       "    </tr>\n",
       "  </tbody>\n",
       "</table>\n",
       "</div>"
      ],
      "text/plain": [
       "                                QT_VAGAS_AUTORIZADAS\n",
       "MUNICIPIO MODALIDADE                                \n",
       "São Paulo Educação Presencial                1233629\n",
       "          Educação a Distância              11745861"
      ]
     },
     "metadata": {},
     "output_type": "display_data"
    }
   ],
   "source": [
    "df = pd.DataFrame(arquivo)\n",
    "\n",
    "faculdades = df[df['MUNICIPIO'] == 'São Paulo']\n",
    "\n",
    "faculdades_sp = faculdades[[\"MUNICIPIO\", \"MODALIDADE\", \"QT_VAGAS_AUTORIZADAS\",]].groupby([\"MUNICIPIO\",\"MODALIDADE\"]).sum()\n",
    "\n",
    "mod_faculdades_sp = faculdades_sp.query('QT_VAGAS_AUTORIZADAS != 0')\n",
    "\n",
    "display(mod_faculdades_sp)"
   ]
  },
  {
   "cell_type": "markdown",
   "metadata": {},
   "source": [
    "Criando grafico"
   ]
  },
  {
   "cell_type": "code",
   "execution_count": 6,
   "metadata": {},
   "outputs": [
    {
     "name": "stdout",
     "output_type": "stream",
     "text": [
      "             modalidade        qt\n",
      "0   Educação Presencial   1233629\n",
      "1  Educação a Distância  11745861\n"
     ]
    }
   ],
   "source": [
    "dados = {\n",
    "    'modalidade': [ 'Educação Presencial', 'Educação a Distância'],\n",
    "    'qt': [1233629, 11745861 ]\n",
    "}\n",
    "\n",
    "vagas_modalidade = pd.DataFrame(dados)\n",
    "\n",
    "print(vagas_modalidade)"
   ]
  },
  {
   "cell_type": "code",
   "execution_count": 8,
   "metadata": {},
   "outputs": [
    {
     "data": {
      "image/png": "[encoded data removed]",
      "text/plain": [
       "<Figure size 640x480 with 1 Axes>"
      ]
     },
     "metadata": {},
     "output_type": "display_data"
    }
   ],
   "source": [
    "import matplotlib.pyplot as plt\n",
    "\n",
    "\n",
    "modalidade = vagas_modalidade[\"modalidade\"]   \n",
    "qt = vagas_modalidade[\"qt\"]\n",
    "\n",
    "plt.title(\"Distribuição de vagas em modalidade\")\n",
    "plt.bar(modalidade, qt, color='blue', width=0.5)\n",
    "plt.show()"
   ]
  }
 ],
 "metadata": {
  "kernelspec": {
   "display_name": "Python 3",
   "language": "python",
   "name": "python3"
  },
  "language_info": {
   "codemirror_mode": {
    "name": "ipython",
    "version": 3
   },
   "file_extension": ".py",
   "mimetype": "text/x-python",
   "name": "python",
   "nbconvert_exporter": "python",
   "pygments_lexer": "ipython3",
   "version": "3.11.4"
  },
  "orig_nbformat": 4
 },
 "nbformat": 4,
 "nbformat_minor": 2
}
